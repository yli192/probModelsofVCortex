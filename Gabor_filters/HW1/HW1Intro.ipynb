{
 "cells": [
  {
   "cell_type": "markdown",
   "metadata": {},
   "source": [
    "# Homework 1 Introduction - Probabilistic Models of Visual Cortex"
   ]
  },
  {
   "cell_type": "markdown",
   "metadata": {},
   "source": [
    "This homework contains code demo to illustrate concepts from the lectures. The code is written in python language. To run these demos, [IPython/Jupyter notebook](http://ipython.org/notebook.html) is required. The IPython Notebook is a web-based interactive computational environment where you can combine code execution, text, mathematics, plots and rich media into a single document. In this [link](IPythonNotebookBasic.ipynb), we provide instructions of getting started with this tool."
   ]
  },
  {
   "cell_type": "markdown",
   "metadata": {},
   "source": [
    "Click this link to begin the first homework -> [GaborDemos](./Gabor.ipynb). All code and data for this assignment can be downloaded here: [tgz](https://github.com/drew-reisinger/AS.50.375HWFall16/blob/master/HW1.tgz) or [zip](https://github.com/drew-reisinger/AS.50.375HWFall16/blob/master/HW1.zip)"
   ]
  },
  {
   "cell_type": "markdown",
   "metadata": {
    "collapsed": true
   },
   "source": [
    "**Update:**\n",
    "\n",
    "10/22: If you are using python3 and got an error looks like:\n",
    "\n",
    "``` \n",
    "UnicodeDecodeError: 'ascii' codec can't decode byte 0x80 in position 1: ordinal not in range(128)\n",
    "```\n",
    "\n",
    "Replace `pickle.load(open('unknownGabor.data', 'rb'))` to `pickle.load(open('unknownGabor.data', 'rb'), encoding='latin1')`   \n",
    "by adding `encoding='latin1'`\n",
    "\n",
    "**Note:**\n",
    "\n",
    "Code is written and tested in python2, which is much more popular. If you are using python3 and got any compatible issue like the above, please report to Drew. Sorry for the inconvenience\n",
    "\n",
    "Original notebook by Weichao Qiu (qiuwch@gmail.com), modified for Fall 2016 by Drew Reisinger (reisinger@cogsci.jhu.edu)"
   ]
  }
 ],
 "metadata": {
  "kernelspec": {
   "display_name": "Python [Root]",
   "language": "python",
   "name": "Python [Root]"
  },
  "language_info": {
   "codemirror_mode": {
    "name": "ipython",
    "version": 2
   },
   "file_extension": ".py",
   "mimetype": "text/x-python",
   "name": "python",
   "nbconvert_exporter": "python",
   "pygments_lexer": "ipython2",
   "version": "2.7.12"
  }
 },
 "nbformat": 4,
 "nbformat_minor": 0
}
